{
 "cells": [
  {
   "cell_type": "code",
   "execution_count": 1,
   "metadata": {},
   "outputs": [],
   "source": [
    "import numpy as np\n",
    "import pandas as pd\n",
    "import matplotlib.pyplot as plt"
   ]
  },
  {
   "cell_type": "code",
   "execution_count": 2,
   "metadata": {},
   "outputs": [],
   "source": [
    "d = pd.read_excel('Running-record.xlsx', index_col=0)"
   ]
  },
  {
   "cell_type": "code",
   "execution_count": 3,
   "metadata": {},
   "outputs": [
    {
     "data": {
      "text/html": [
       "<div>\n",
       "<style scoped>\n",
       "    .dataframe tbody tr th:only-of-type {\n",
       "        vertical-align: middle;\n",
       "    }\n",
       "\n",
       "    .dataframe tbody tr th {\n",
       "        vertical-align: top;\n",
       "    }\n",
       "\n",
       "    .dataframe thead th {\n",
       "        text-align: right;\n",
       "    }\n",
       "</style>\n",
       "<table border=\"1\" class=\"dataframe\">\n",
       "  <thead>\n",
       "    <tr style=\"text-align: right;\">\n",
       "      <th></th>\n",
       "      <th>time</th>\n",
       "      <th>distance</th>\n",
       "    </tr>\n",
       "    <tr>\n",
       "      <th>date</th>\n",
       "      <th></th>\n",
       "      <th></th>\n",
       "    </tr>\n",
       "  </thead>\n",
       "  <tbody>\n",
       "    <tr>\n",
       "      <th>2019-01-22</th>\n",
       "      <td>1900-01-01 21:38:00</td>\n",
       "      <td>5.51</td>\n",
       "    </tr>\n",
       "    <tr>\n",
       "      <th>2019-02-24</th>\n",
       "      <td>1900-01-01 05:27:00</td>\n",
       "      <td>3.57</td>\n",
       "    </tr>\n",
       "    <tr>\n",
       "      <th>2019-02-27</th>\n",
       "      <td>1900-01-01 13:01:00</td>\n",
       "      <td>5.09</td>\n",
       "    </tr>\n",
       "    <tr>\n",
       "      <th>2019-03-02</th>\n",
       "      <td>1900-01-01 17:19:00</td>\n",
       "      <td>5.47</td>\n",
       "    </tr>\n",
       "    <tr>\n",
       "      <th>2019-03-13</th>\n",
       "      <td>1900-01-01 11:10:00</td>\n",
       "      <td>5.16</td>\n",
       "    </tr>\n",
       "    <tr>\n",
       "      <th>2019-03-16</th>\n",
       "      <td>1900-01-01 08:33:00</td>\n",
       "      <td>5.01</td>\n",
       "    </tr>\n",
       "    <tr>\n",
       "      <th>2019-03-21</th>\n",
       "      <td>20:38:00</td>\n",
       "      <td>3.03</td>\n",
       "    </tr>\n",
       "    <tr>\n",
       "      <th>2019-03-23</th>\n",
       "      <td>1900-01-01 15:21:00</td>\n",
       "      <td>5.82</td>\n",
       "    </tr>\n",
       "    <tr>\n",
       "      <th>2019-03-31</th>\n",
       "      <td>1900-01-01 09:28:00</td>\n",
       "      <td>5.02</td>\n",
       "    </tr>\n",
       "    <tr>\n",
       "      <th>2019-04-03</th>\n",
       "      <td>1900-01-01 08:32:00</td>\n",
       "      <td>5.00</td>\n",
       "    </tr>\n",
       "    <tr>\n",
       "      <th>2019-04-05</th>\n",
       "      <td>1900-01-01 19:12:00</td>\n",
       "      <td>5.03</td>\n",
       "    </tr>\n",
       "    <tr>\n",
       "      <th>2019-04-10</th>\n",
       "      <td>1900-01-02 01:05:00</td>\n",
       "      <td>6.47</td>\n",
       "    </tr>\n",
       "    <tr>\n",
       "      <th>2019-04-12</th>\n",
       "      <td>1900-01-02 18:40:00</td>\n",
       "      <td>10.00</td>\n",
       "    </tr>\n",
       "    <tr>\n",
       "      <th>2019-04-19</th>\n",
       "      <td>1900-01-02 00:25:00</td>\n",
       "      <td>6.16</td>\n",
       "    </tr>\n",
       "    <tr>\n",
       "      <th>2019-04-26</th>\n",
       "      <td>1900-01-01 10:23:00</td>\n",
       "      <td>5.25</td>\n",
       "    </tr>\n",
       "    <tr>\n",
       "      <th>2019-05-10</th>\n",
       "      <td>1900-01-01 07:47:00</td>\n",
       "      <td>5.00</td>\n",
       "    </tr>\n",
       "    <tr>\n",
       "      <th>2019-05-18</th>\n",
       "      <td>1900-01-01 06:50:00</td>\n",
       "      <td>5.02</td>\n",
       "    </tr>\n",
       "    <tr>\n",
       "      <th>2019-05-23</th>\n",
       "      <td>00:45:00</td>\n",
       "      <td>10.00</td>\n",
       "    </tr>\n",
       "    <tr>\n",
       "      <th>2019-06-01</th>\n",
       "      <td>00:30:40</td>\n",
       "      <td>5.02</td>\n",
       "    </tr>\n",
       "  </tbody>\n",
       "</table>\n",
       "</div>"
      ],
      "text/plain": [
       "                           time  distance\n",
       "date                                     \n",
       "2019-01-22  1900-01-01 21:38:00      5.51\n",
       "2019-02-24  1900-01-01 05:27:00      3.57\n",
       "2019-02-27  1900-01-01 13:01:00      5.09\n",
       "2019-03-02  1900-01-01 17:19:00      5.47\n",
       "2019-03-13  1900-01-01 11:10:00      5.16\n",
       "2019-03-16  1900-01-01 08:33:00      5.01\n",
       "2019-03-21             20:38:00      3.03\n",
       "2019-03-23  1900-01-01 15:21:00      5.82\n",
       "2019-03-31  1900-01-01 09:28:00      5.02\n",
       "2019-04-03  1900-01-01 08:32:00      5.00\n",
       "2019-04-05  1900-01-01 19:12:00      5.03\n",
       "2019-04-10  1900-01-02 01:05:00      6.47\n",
       "2019-04-12  1900-01-02 18:40:00     10.00\n",
       "2019-04-19  1900-01-02 00:25:00      6.16\n",
       "2019-04-26  1900-01-01 10:23:00      5.25\n",
       "2019-05-10  1900-01-01 07:47:00      5.00\n",
       "2019-05-18  1900-01-01 06:50:00      5.02\n",
       "2019-05-23             00:45:00     10.00\n",
       "2019-06-01             00:30:40      5.02"
      ]
     },
     "execution_count": 3,
     "metadata": {},
     "output_type": "execute_result"
    }
   ],
   "source": [
    "d"
   ]
  },
  {
   "cell_type": "code",
   "execution_count": 4,
   "metadata": {},
   "outputs": [
    {
     "data": {
      "text/plain": [
       "DatetimeIndex(['2019-02-27', '2019-03-21', '2019-04-05', '2019-04-26',\n",
       "               '2019-06-01'],\n",
       "              dtype='datetime64[ns]', name='date', freq=None)"
      ]
     },
     "execution_count": 4,
     "metadata": {},
     "output_type": "execute_result"
    }
   ],
   "source": [
    "d.index[np.arange(2,d.shape[0],4)]"
   ]
  },
  {
   "cell_type": "code",
   "execution_count": 5,
   "metadata": {},
   "outputs": [
    {
     "data": {
      "text/plain": [
       "106.63"
      ]
     },
     "execution_count": 5,
     "metadata": {},
     "output_type": "execute_result"
    }
   ],
   "source": [
    "d.sum()[0]"
   ]
  },
  {
   "cell_type": "code",
   "execution_count": 6,
   "metadata": {},
   "outputs": [
    {
     "data": {
      "text/plain": [
       "'106.63'"
      ]
     },
     "execution_count": 6,
     "metadata": {},
     "output_type": "execute_result"
    }
   ],
   "source": [
    "str(d.sum()[0])"
   ]
  },
  {
   "cell_type": "code",
   "execution_count": 7,
   "metadata": {},
   "outputs": [
    {
     "data": {
      "text/plain": [
       "(19, 2)"
      ]
     },
     "execution_count": 7,
     "metadata": {},
     "output_type": "execute_result"
    }
   ],
   "source": [
    "d.shape"
   ]
  },
  {
   "cell_type": "code",
   "execution_count": 8,
   "metadata": {},
   "outputs": [
    {
     "data": {
      "text/plain": [
       "array([ 5.51,  3.57,  5.09,  5.47,  5.16,  5.01,  3.03,  5.82,  5.02,\n",
       "        5.  ,  5.03,  6.47, 10.  ,  6.16,  5.25,  5.  ,  5.02, 10.  ,\n",
       "        5.02])"
      ]
     },
     "execution_count": 8,
     "metadata": {},
     "output_type": "execute_result"
    }
   ],
   "source": [
    "d.iloc[:,1].values"
   ]
  },
  {
   "cell_type": "code",
   "execution_count": 9,
   "metadata": {},
   "outputs": [
    {
     "data": {
      "text/plain": [
       "Timestamp('2019-06-01 00:00:00')"
      ]
     },
     "execution_count": 9,
     "metadata": {},
     "output_type": "execute_result"
    }
   ],
   "source": [
    "d.index[-1]"
   ]
  },
  {
   "cell_type": "code",
   "execution_count": 10,
   "metadata": {},
   "outputs": [
    {
     "ename": "TypeError",
     "evalue": "'Timestamp' object is not subscriptable",
     "output_type": "error",
     "traceback": [
      "\u001b[1;31m---------------------------------------------------------------------------\u001b[0m",
      "\u001b[1;31mTypeError\u001b[0m                                 Traceback (most recent call last)",
      "\u001b[1;32m<ipython-input-10-88504379974e>\u001b[0m in \u001b[0;36m<module>\u001b[1;34m\u001b[0m\n\u001b[1;32m----> 1\u001b[1;33m \u001b[0md\u001b[0m\u001b[1;33m.\u001b[0m\u001b[0mindex\u001b[0m\u001b[1;33m[\u001b[0m\u001b[1;33m-\u001b[0m\u001b[1;36m1\u001b[0m\u001b[1;33m]\u001b[0m\u001b[1;33m[\u001b[0m\u001b[1;36m0\u001b[0m\u001b[1;33m:\u001b[0m\u001b[1;36m4\u001b[0m\u001b[1;33m]\u001b[0m\u001b[1;33m\u001b[0m\u001b[1;33m\u001b[0m\u001b[0m\n\u001b[0m",
      "\u001b[1;31mTypeError\u001b[0m: 'Timestamp' object is not subscriptable"
     ]
    }
   ],
   "source": [
    "d.index[-1][0:4]"
   ]
  },
  {
   "cell_type": "code",
   "execution_count": 12,
   "metadata": {},
   "outputs": [
    {
     "data": {
      "image/png": "[encoded data removed]",
      "text/plain": [
       "<Figure size 800x400 with 1 Axes>"
      ]
     },
     "metadata": {},
     "output_type": "display_data"
    }
   ],
   "source": [
    "\n",
    "from datetime import timedelta\n",
    "plt.style.use('classic')\n",
    "\n",
    "fig, ax = plt.subplots(figsize = (10,5))\n",
    "\n",
    "plt.plot(d.iloc[:,1], 'ko-')\n",
    "\n",
    "# plt.xticks(np.arange(2,d.shape[0],4), d.index[0][np.arange(2,d.shape[0],4)], rotation=30)\n",
    "ax.xaxis.set_tick_params(rotation=40, labelsize=10)\n",
    "\n",
    "plt.xlabel(r'Date', fontsize = 'large', fontweight = 'roman')\n",
    "plt.ylabel(r' $Running\\ Distance\\ (Km)$', fontsize = 'large')\n",
    "\n",
    "plt.xlim(d.index[0],d.index[-1] + timedelta(30))\n",
    "\n",
    "plt.ylim(0,15)\n",
    "plt.text('2019-04-01',13,r'$D_{cum}\\ =\\ $' + str(d.sum()[0]) + '$\\ km$', fontsize=16)\n",
    "plt.savefig('Running-Distance.png', dpi = 300, bbox_inches = 'tight')\n",
    "plt.savefig(r'G:\\repositories\\github\\PhilosopherZ.github.io\\img\\Running-Distance.png', dpi = 300, bbox_inches = 'tight')"
   ]
  },
  {
   "cell_type": "code",
   "execution_count": 16,
   "metadata": {},
   "outputs": [
    {
     "data": {
      "text/plain": [
       "pandas._libs.tslibs.timestamps.Timestamp"
      ]
     },
     "execution_count": 16,
     "metadata": {},
     "output_type": "execute_result"
    }
   ],
   "source": [
    "type(d.index[-1])"
   ]
  },
  {
   "cell_type": "code",
   "execution_count": 18,
   "metadata": {},
   "outputs": [],
   "source": [
    "from datetime import timedelta"
   ]
  },
  {
   "cell_type": "code",
   "execution_count": 19,
   "metadata": {},
   "outputs": [
    {
     "data": {
      "text/plain": [
       "Timestamp('2019-06-02 00:00:00')"
      ]
     },
     "execution_count": 19,
     "metadata": {},
     "output_type": "execute_result"
    }
   ],
   "source": [
    "d.index[-1] + timedelta(10)"
   ]
  },
  {
   "cell_type": "code",
   "execution_count": 14,
   "metadata": {},
   "outputs": [
    {
     "data": {
      "text/plain": [
       "\u001b[1;31mSignature:\u001b[0m \u001b[0mplt\u001b[0m\u001b[1;33m.\u001b[0m\u001b[0mtext\u001b[0m\u001b[1;33m(\u001b[0m\u001b[0mx\u001b[0m\u001b[1;33m,\u001b[0m \u001b[0my\u001b[0m\u001b[1;33m,\u001b[0m \u001b[0ms\u001b[0m\u001b[1;33m,\u001b[0m \u001b[0mfontdict\u001b[0m\u001b[1;33m=\u001b[0m\u001b[1;32mNone\u001b[0m\u001b[1;33m,\u001b[0m \u001b[0mwithdash\u001b[0m\u001b[1;33m=\u001b[0m\u001b[1;32mFalse\u001b[0m\u001b[1;33m,\u001b[0m \u001b[1;33m**\u001b[0m\u001b[0mkwargs\u001b[0m\u001b[1;33m)\u001b[0m\u001b[1;33m\u001b[0m\u001b[1;33m\u001b[0m\u001b[0m\n",
       "\u001b[1;31mDocstring:\u001b[0m\n",
       "Add text to the axes.\n",
       "\n",
       "Add the text *s* to the axes at location *x*, *y* in data coordinates.\n",
       "\n",
       "Parameters\n",
       "----------\n",
       "x, y : scalars\n",
       "    The position to place the text. By default, this is in data\n",
       "    coordinates. The coordinate system can be changed using the\n",
       "    *transform* parameter.\n",
       "\n",
       "s : str\n",
       "    The text.\n",
       "\n",
       "fontdict : dictionary, optional, default: None\n",
       "    A dictionary to override the default text properties. If fontdict\n",
       "    is None, the defaults are determined by your rc parameters.\n",
       "\n",
       "withdash : boolean, optional, default: False\n",
       "    Creates a `~matplotlib.text.TextWithDash` instance instead of a\n",
       "    `~matplotlib.text.Text` instance.\n",
       "\n",
       "Returns\n",
       "-------\n",
       "text : `.Text`\n",
       "    The created `.Text` instance.\n",
       "\n",
       "Other Parameters\n",
       "----------------\n",
       "**kwargs : `~matplotlib.text.Text` properties.\n",
       "    Other miscellaneous text parameters.\n",
       "\n",
       "Examples\n",
       "--------\n",
       "Individual keyword arguments can be used to override any given\n",
       "parameter::\n",
       "\n",
       "    >>> text(x, y, s, fontsize=12)\n",
       "\n",
       "The default transform specifies that text is in data coords,\n",
       "alternatively, you can specify text in axis coords (0,0 is\n",
       "lower-left and 1,1 is upper-right).  The example below places\n",
       "text in the center of the axes::\n",
       "\n",
       "    >>> text(0.5, 0.5, 'matplotlib', horizontalalignment='center',\n",
       "    ...      verticalalignment='center', transform=ax.transAxes)\n",
       "\n",
       "You can put a rectangular box around the text instance (e.g., to\n",
       "set a background color) by using the keyword `bbox`.  `bbox` is\n",
       "a dictionary of `~matplotlib.patches.Rectangle`\n",
       "properties.  For example::\n",
       "\n",
       "    >>> text(x, y, s, bbox=dict(facecolor='red', alpha=0.5))\n",
       "\u001b[1;31mFile:\u001b[0m      g:\\app\\anaconda3\\lib\\site-packages\\matplotlib\\pyplot.py\n",
       "\u001b[1;31mType:\u001b[0m      function\n"
      ]
     },
     "metadata": {},
     "output_type": "display_data"
    }
   ],
   "source": [
    "plt.text?"
   ]
  },
  {
   "cell_type": "code",
   "execution_count": null,
   "metadata": {},
   "outputs": [],
   "source": []
  }
 ],
 "metadata": {
  "kernelspec": {
   "display_name": "Python 3",
   "language": "python",
   "name": "python3"
  },
  "language_info": {
   "codemirror_mode": {
    "name": "ipython",
    "version": 3
   },
   "file_extension": ".py",
   "mimetype": "text/x-python",
   "name": "python",
   "nbconvert_exporter": "python",
   "pygments_lexer": "ipython3",
   "version": "3.7.3"
  }
 },
 "nbformat": 4,
 "nbformat_minor": 2
}
